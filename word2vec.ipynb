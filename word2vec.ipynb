{
  "nbformat": 4,
  "nbformat_minor": 0,
  "metadata": {
    "colab": {
      "provenance": []
    },
    "kernelspec": {
      "name": "python3",
      "display_name": "Python 3"
    },
    "language_info": {
      "name": "python"
    }
  },
  "cells": [
    {
      "cell_type": "markdown",
      "source": [
        "## FIRST, LET'S MINE SOME TEXT"
      ],
      "metadata": {
        "id": "Ev7vFcgm56Y6"
      }
    },
    {
      "cell_type": "code",
      "source": [
        "import requests\n",
        "import os\n",
        "from pprint import pprint\n",
        "from bs4 import BeautifulSoup\n",
        "from IPython.display import clear_output\n",
        "import numpy as np\n",
        "import pandas as pd\n",
        "import time\n",
        "import pickle\n",
        "import copy\n",
        "import tqdm\n"
      ],
      "metadata": {
        "id": "WOPdEkxM59tw"
      },
      "execution_count": null,
      "outputs": []
    },
    {
      "cell_type": "code",
      "source": [
        "apikey = '' #SET your nytimes apikey\n",
        "\n",
        "\n",
        "section = \"science\"\n",
        "year=2020\n",
        "for month in [8]:\n",
        "  print(f\"month {month}:\")\n",
        "  query_url = f\"https://api.nytimes.com/svc/archive/v1/{year}/{month}.json?api-key={apikey}\"\n",
        "\n",
        "  r = requests.get(query_url)\n",
        "\n",
        "  results=[]\n",
        "  temp=copy.deepcopy(r.json()[\"response\"][\"docs\"])\n",
        "  for i,web in  enumerate(tqdm.tqdm(r.json()[\"response\"][\"docs\"])):\n",
        "    address=web[\"web_url\"]\n",
        "    page = requests.get(address)\n",
        "    soup = BeautifulSoup(page.content, 'html.parser')\n",
        "    texts=soup.find_all(\"div\",class_=\"css-s99gbd StoryBodyCompanionColumn\")\n",
        "    text=\"\"\n",
        "    for item in texts:\n",
        "      text=text+(item.text)\n",
        "    temp[i][\"full_text\"]=text\n",
        "  results.extend(temp)"
      ],
      "metadata": {
        "id": "8nyxIZXj6RuT"
      },
      "execution_count": null,
      "outputs": []
    },
    {
      "cell_type": "code",
      "source": [
        "text=\"\"\n",
        "for i in range(len(results)):\n",
        "  text= text+ results[i][\"full_text\"]+ \"\\n\""
      ],
      "metadata": {
        "id": "IKkQwCCvBYiW"
      },
      "execution_count": null,
      "outputs": []
    },
    {
      "cell_type": "markdown",
      "source": [
        "#### you can replace your own text"
      ],
      "metadata": {
        "id": "KshnKgz6-_dj"
      }
    },
    {
      "cell_type": "markdown",
      "source": [
        "## Train the word2vec"
      ],
      "metadata": {
        "id": "ryEPK4iK6zF7"
      }
    },
    {
      "cell_type": "code",
      "source": [
        "with open(\"temp.txt\",\"w+\") as f:\n",
        "  f.write(text)"
      ],
      "metadata": {
        "id": "HRUYxou5CYzv"
      },
      "execution_count": null,
      "outputs": []
    },
    {
      "cell_type": "code",
      "execution_count": null,
      "metadata": {
        "id": "oNpGgnBG9HIl"
      },
      "outputs": [],
      "source": [
        "import io\n",
        "import re\n",
        "import string\n",
        "import tqdm\n",
        "\n",
        "import numpy as np\n",
        "\n",
        "import tensorflow as tf\n",
        "from tensorflow.keras import layers"
      ]
    },
    {
      "cell_type": "code",
      "source": [
        "SEED = 42\n",
        "AUTOTUNE = tf.data.AUTOTUNE"
      ],
      "metadata": {
        "id": "vcxGcJ8RDuAc"
      },
      "execution_count": null,
      "outputs": []
    },
    {
      "cell_type": "code",
      "source": [
        "def generate_training_data(sequences, window_size, num_ns, vocab_size, seed):\n",
        "  # Elements of each training example are appended to these lists.\n",
        "  targets, contexts, labels = [], [], []\n",
        "\n",
        "  # Build the sampling table for `vocab_size` tokens.\n",
        "  sampling_table = tf.keras.preprocessing.sequence.make_sampling_table(vocab_size)\n",
        "\n",
        "  # Iterate over all sequences (sentences) in the dataset.\n",
        "  for sequence in tqdm.tqdm(sequences):\n",
        "\n",
        "    # Generate positive skip-gram pairs for a sequence (sentence).\n",
        "    positive_skip_grams, _ = tf.keras.preprocessing.sequence.skipgrams(\n",
        "          sequence,\n",
        "          vocabulary_size=vocab_size,\n",
        "          sampling_table=sampling_table,\n",
        "          window_size=window_size,\n",
        "          negative_samples=0)\n",
        "\n",
        "    # Iterate over each positive skip-gram pair to produce training examples\n",
        "    # with a positive context word and negative samples.\n",
        "    for target_word, context_word in positive_skip_grams:\n",
        "      context_class = tf.expand_dims(\n",
        "          tf.constant([context_word], dtype=\"int64\"), 1)\n",
        "      negative_sampling_candidates, _, _ = tf.random.log_uniform_candidate_sampler(\n",
        "          true_classes=context_class,\n",
        "          num_true=1,\n",
        "          num_sampled=num_ns,\n",
        "          unique=True,\n",
        "          range_max=vocab_size,\n",
        "          seed=seed,\n",
        "          name=\"negative_sampling\")\n",
        "\n",
        "      # Build context and label vectors (for one target word)\n",
        "      context = tf.concat([tf.squeeze(context_class,1), negative_sampling_candidates], 0)\n",
        "      label = tf.constant([1] + [0]*num_ns, dtype=\"int64\")\n",
        "\n",
        "      # Append each element from the training example to global lists.\n",
        "      targets.append(target_word)\n",
        "      contexts.append(context)\n",
        "      labels.append(label)\n",
        "\n",
        "  return targets, contexts, labels"
      ],
      "metadata": {
        "id": "1_rPXSSi-_1o"
      },
      "execution_count": null,
      "outputs": []
    },
    {
      "cell_type": "code",
      "source": [
        "path_to_file = tf.keras.utils.get_file('shakespeare.txt', 'https://storage.googleapis.com/download.tensorflow.org/data/shakespeare.txt')"
      ],
      "metadata": {
        "id": "whhMelrJAGtg"
      },
      "execution_count": null,
      "outputs": []
    },
    {
      "cell_type": "code",
      "source": [
        "text_ds = tf.data.TextLineDataset(\"temp.txt\").filter(lambda x: tf.cast(tf.strings.length(x), bool))\n",
        "# text_ds = tf.data.TextLineDataset(path_to_file).filter(lambda x: tf.cast(tf.strings.length(x), bool))"
      ],
      "metadata": {
        "id": "9BqQsPcgAG9I"
      },
      "execution_count": null,
      "outputs": []
    },
    {
      "cell_type": "code",
      "source": [
        "# Now, create a custom standardization function to lowercase the text and\n",
        "# remove punctuation.\n",
        "def custom_standardization(input_data):\n",
        "  lowercase = tf.strings.lower(input_data)\n",
        "  return tf.strings.regex_replace(lowercase,\n",
        "                                  '[%s]' % re.escape(string.punctuation), '')\n",
        "\n",
        "\n",
        "# Define the vocabulary size and the number of words in a sequence.\n",
        "vocab_size = 8192\n",
        "sequence_length = 30\n",
        "\n",
        "# Use the `TextVectorization` layer to normalize, split, and map strings to\n",
        "# integers. Set the `output_sequence_length` length to pad all samples to the\n",
        "# same length.\n",
        "vectorize_layer = layers.TextVectorization(\n",
        "    standardize=custom_standardization,\n",
        "    max_tokens=vocab_size,\n",
        "    output_mode='int',\n",
        "    output_sequence_length=sequence_length)"
      ],
      "metadata": {
        "id": "8fN5duMmAL3h"
      },
      "execution_count": null,
      "outputs": []
    },
    {
      "cell_type": "code",
      "source": [
        "vectorize_layer.adapt(text_ds.batch(1024))"
      ],
      "metadata": {
        "id": "4FXYwrm_AMk4"
      },
      "execution_count": null,
      "outputs": []
    },
    {
      "cell_type": "code",
      "source": [
        "inverse_vocab = vectorize_layer.get_vocabulary()\n",
        "print(inverse_vocab[:40])"
      ],
      "metadata": {
        "id": "_bOoQnEkAS_J"
      },
      "execution_count": null,
      "outputs": []
    },
    {
      "cell_type": "code",
      "source": [
        "text_vector_ds = text_ds.batch(1024).prefetch(AUTOTUNE).map(vectorize_layer).unbatch()"
      ],
      "metadata": {
        "id": "C-za4YW5Acz5"
      },
      "execution_count": null,
      "outputs": []
    },
    {
      "cell_type": "code",
      "source": [
        "sequences = list(text_vector_ds.as_numpy_iterator())"
      ],
      "metadata": {
        "id": "dCFpdghWAjXB"
      },
      "execution_count": null,
      "outputs": []
    },
    {
      "cell_type": "code",
      "source": [
        "vectorize_layer.vocabulary_size()"
      ],
      "metadata": {
        "id": "7G8aA-2PIbT_"
      },
      "execution_count": null,
      "outputs": []
    },
    {
      "cell_type": "code",
      "source": [
        "targets, contexts, labels = generate_training_data(\n",
        "    sequences=sequences,\n",
        "    window_size=3,\n",
        "    num_ns=6,\n",
        "    vocab_size=vocab_size,\n",
        "    seed=SEED)\n",
        "\n",
        "targets = np.array(targets)\n",
        "contexts = np.array(contexts)\n",
        "labels = np.array(labels)\n",
        "\n",
        "print('\\n')\n",
        "print(f\"targets.shape: {targets.shape}\")\n",
        "print(f\"contexts.shape: {contexts.shape}\")\n",
        "print(f\"labels.shape: {labels.shape}\")"
      ],
      "metadata": {
        "id": "8dUv_X_9AqZR"
      },
      "execution_count": null,
      "outputs": []
    },
    {
      "cell_type": "code",
      "source": [
        "BATCH_SIZE = 1024\n",
        "num_ns = 4\n",
        "BUFFER_SIZE = 10000\n",
        "dataset = tf.data.Dataset.from_tensor_slices(((targets, contexts), labels))\n",
        "dataset = dataset.shuffle(BUFFER_SIZE).batch(BATCH_SIZE, drop_remainder=True)\n",
        "print(dataset)"
      ],
      "metadata": {
        "id": "VOegQW4cAsaB"
      },
      "execution_count": null,
      "outputs": []
    },
    {
      "cell_type": "code",
      "source": [
        "class Word2Vec(tf.keras.Model):\n",
        "  def __init__(self, vocab_size, embedding_dim):\n",
        "    super(Word2Vec, self).__init__()\n",
        "    self.target_embedding = layers.Embedding(vocab_size,\n",
        "                                      embedding_dim,\n",
        "                                      input_length=1,\n",
        "                                      name=\"w2v_embedding\")\n",
        "    self.context_embedding = layers.Embedding(vocab_size,\n",
        "                                       embedding_dim,\n",
        "                                       input_length=num_ns+1)\n",
        "\n",
        "  def call(self, pair):\n",
        "    target, context = pair\n",
        "    # target: (batch, dummy?)  # The dummy axis doesn't exist in TF2.7+\n",
        "    # context: (batch, context)\n",
        "    if len(target.shape) == 2:\n",
        "      target = tf.squeeze(target, axis=1)\n",
        "    # target: (batch,)\n",
        "    word_emb = self.target_embedding(target)\n",
        "    # word_emb: (batch, embed)\n",
        "    context_emb = self.context_embedding(context)\n",
        "    # context_emb: (batch, context, embed)\n",
        "    dots = tf.einsum('be,bce->bc', word_emb, context_emb)\n",
        "    # dots: (batch, context)\n",
        "    return dots"
      ],
      "metadata": {
        "id": "ny1WNQAoA1kp"
      },
      "execution_count": null,
      "outputs": []
    },
    {
      "cell_type": "code",
      "source": [
        "def custom_loss(x_logit, y_true):\n",
        "      return tf.nn.sigmoid_cross_entropy_with_logits(logits=x_logit, labels=y_true)"
      ],
      "metadata": {
        "id": "4iwZSrwABRLJ"
      },
      "execution_count": null,
      "outputs": []
    },
    {
      "cell_type": "code",
      "source": [
        "embedding_dim = 128\n",
        "word2vec = Word2Vec(vocab_size, embedding_dim)\n",
        "word2vec.compile(optimizer='adam',\n",
        "                 loss=tf.keras.losses.CategoricalCrossentropy(from_logits=True),\n",
        "                 metrics=['accuracy'])"
      ],
      "metadata": {
        "id": "RAeIbTilBUWp"
      },
      "execution_count": null,
      "outputs": []
    },
    {
      "cell_type": "code",
      "source": [
        "word2vec.fit(dataset, epochs=35,)"
      ],
      "metadata": {
        "id": "PUAQOaVjBV3o"
      },
      "execution_count": null,
      "outputs": []
    },
    {
      "cell_type": "code",
      "source": [
        "weights = word2vec.get_layer('w2v_embedding').get_weights()[0]\n",
        "vocab = vectorize_layer.get_vocabulary()"
      ],
      "metadata": {
        "id": "MqkElKQEBpGY"
      },
      "execution_count": null,
      "outputs": []
    },
    {
      "cell_type": "code",
      "source": [
        "def get_embedding(word):\n",
        "  return weights[vectorize_layer(word)[0].numpy()]"
      ],
      "metadata": {
        "id": "iP6L8PXYFpQw"
      },
      "execution_count": null,
      "outputs": []
    },
    {
      "cell_type": "code",
      "source": [
        "words_vec=weights\n",
        "words=np.array(vectorize_layer.get_vocabulary())\n",
        "words_length=np.sqrt((words_vec**2).sum(axis=1))"
      ],
      "metadata": {
        "id": "G7gicJ0LHDwx"
      },
      "execution_count": null,
      "outputs": []
    },
    {
      "cell_type": "code",
      "source": [
        "def get_k_closest(word_vec,k=32):\n",
        "  if type(word_vec)==str:\n",
        "    word_vec=get_embedding(word_vec)\n",
        "  word_length=np.sqrt((word_vec**2).sum())\n",
        "  return words[((word_vec*words_vec).sum(axis=1)/words_length/word_length*-1).argsort()[:k]]"
      ],
      "metadata": {
        "id": "3gWgHCYcGNx1"
      },
      "execution_count": null,
      "outputs": []
    },
    {
      "cell_type": "code",
      "source": [
        "man=get_embedding(\"man\")\n",
        "woman=get_embedding(\"woman\")\n",
        "king=get_embedding(\"king\")\n",
        "\n",
        "get_k_closest(man)"
      ],
      "metadata": {
        "id": "XtkPDID0F5mG"
      },
      "execution_count": null,
      "outputs": []
    },
    {
      "cell_type": "markdown",
      "source": [
        "### TEST GENISM"
      ],
      "metadata": {
        "id": "RJ8nmSvKV0pG"
      }
    },
    {
      "cell_type": "code",
      "source": [
        "import gensim.downloader as api\n",
        "# wv = api.load('word2vec-google-news-300')\n",
        "wv = api.load('glove-wiki-gigaword-100')"
      ],
      "metadata": {
        "id": "j3MEKeFIVJsl"
      },
      "execution_count": null,
      "outputs": []
    },
    {
      "cell_type": "code",
      "source": [
        "wv.most_similar([\"king\",\"woman\"],[\"man\"])"
      ],
      "metadata": {
        "id": "cXBQss9odBIQ"
      },
      "execution_count": null,
      "outputs": []
    },
    {
      "cell_type": "code",
      "source": [
        "words2=[]\n",
        "words_vec=[]\n",
        "for word in words:\n",
        "  try:\n",
        "    words_vec.append(wv[word])\n",
        "    words2.append(word)\n",
        "  except:\n",
        "    pass\n",
        "words_vec=np.array(words_vec)\n",
        "words=np.array(words2)"
      ],
      "metadata": {
        "id": "gUEofiy1eaRn"
      },
      "execution_count": null,
      "outputs": []
    },
    {
      "cell_type": "code",
      "source": [
        "def get_embedding(word):\n",
        "  return wv[word]"
      ],
      "metadata": {
        "id": "2McI8nZhetFG"
      },
      "execution_count": null,
      "outputs": []
    },
    {
      "cell_type": "code",
      "source": [
        "words_length=np.sqrt((words_vec**2).sum(axis=1))"
      ],
      "metadata": {
        "id": "BEDHk32CfGpQ"
      },
      "execution_count": null,
      "outputs": []
    },
    {
      "cell_type": "code",
      "source": [
        "def get_k_closest(word_vec,k=32):\n",
        "  if type(word_vec)==str:\n",
        "    word_vec=get_embedding(word_vec)\n",
        "  word_length=np.sqrt((word_vec**2).sum())\n",
        "  return words[((word_vec*words_vec).sum(axis=1)/words_length/word_length*-1).argsort()[:k]]"
      ],
      "metadata": {
        "id": "Rl3YFaX4fPP4"
      },
      "execution_count": null,
      "outputs": []
    },
    {
      "cell_type": "code",
      "source": [
        "man=get_embedding(\"man\")\n",
        "woman=get_embedding(\"woman\")\n",
        "king=get_embedding(\"king\")\n",
        "\n",
        "get_k_closest(king-man+woman)"
      ],
      "metadata": {
        "id": "Vr64bwwufVHY"
      },
      "execution_count": null,
      "outputs": []
    }
  ]
}